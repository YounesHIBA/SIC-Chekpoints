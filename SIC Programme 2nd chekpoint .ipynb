{
  "cells": [
    {
      "cell_type": "markdown",
      "id": "0a9a5c88",
      "metadata": {
        "id": "0a9a5c88"
      },
      "source": [
        "# Question 1\n",
        "\n",
        "Write a program that will find all numbers which are divisible by 7 but are not a multiple of 5, between 2000 and 3200 (both included). The numbers obtained should be printed in a list.\n",
        "\n",
        "Hint: Consider using the range(#begin, #end) method"
      ]
    },
    {
      "cell_type": "code",
      "execution_count": 33,
      "id": "a30dc1cd",
      "metadata": {
        "colab": {
          "base_uri": "https://localhost:8080/"
        },
        "id": "a30dc1cd",
        "outputId": "4d343f1a-54d7-4d45-f421-646983fad807"
      },
      "outputs": [
        {
          "output_type": "execute_result",
          "data": {
            "text/plain": [
              "[2002,\n",
              " 2009,\n",
              " 2016,\n",
              " 2023,\n",
              " 2037,\n",
              " 2044,\n",
              " 2051,\n",
              " 2058,\n",
              " 2072,\n",
              " 2079,\n",
              " 2086,\n",
              " 2093,\n",
              " 2107,\n",
              " 2114,\n",
              " 2121,\n",
              " 2128,\n",
              " 2142,\n",
              " 2149,\n",
              " 2156,\n",
              " 2163,\n",
              " 2177,\n",
              " 2184,\n",
              " 2191,\n",
              " 2198,\n",
              " 2212,\n",
              " 2219,\n",
              " 2226,\n",
              " 2233,\n",
              " 2247,\n",
              " 2254,\n",
              " 2261,\n",
              " 2268,\n",
              " 2282,\n",
              " 2289,\n",
              " 2296,\n",
              " 2303,\n",
              " 2317,\n",
              " 2324,\n",
              " 2331,\n",
              " 2338,\n",
              " 2352,\n",
              " 2359,\n",
              " 2366,\n",
              " 2373,\n",
              " 2387,\n",
              " 2394,\n",
              " 2401,\n",
              " 2408,\n",
              " 2422,\n",
              " 2429,\n",
              " 2436,\n",
              " 2443,\n",
              " 2457,\n",
              " 2464,\n",
              " 2471,\n",
              " 2478,\n",
              " 2492,\n",
              " 2499,\n",
              " 2506,\n",
              " 2513,\n",
              " 2527,\n",
              " 2534,\n",
              " 2541,\n",
              " 2548,\n",
              " 2562,\n",
              " 2569,\n",
              " 2576,\n",
              " 2583,\n",
              " 2597,\n",
              " 2604,\n",
              " 2611,\n",
              " 2618,\n",
              " 2632,\n",
              " 2639,\n",
              " 2646,\n",
              " 2653,\n",
              " 2667,\n",
              " 2674,\n",
              " 2681,\n",
              " 2688,\n",
              " 2702,\n",
              " 2709,\n",
              " 2716,\n",
              " 2723,\n",
              " 2737,\n",
              " 2744,\n",
              " 2751,\n",
              " 2758,\n",
              " 2772,\n",
              " 2779,\n",
              " 2786,\n",
              " 2793,\n",
              " 2807,\n",
              " 2814,\n",
              " 2821,\n",
              " 2828,\n",
              " 2842,\n",
              " 2849,\n",
              " 2856,\n",
              " 2863,\n",
              " 2877,\n",
              " 2884,\n",
              " 2891,\n",
              " 2898,\n",
              " 2912,\n",
              " 2919,\n",
              " 2926,\n",
              " 2933,\n",
              " 2947,\n",
              " 2954,\n",
              " 2961,\n",
              " 2968,\n",
              " 2982,\n",
              " 2989,\n",
              " 2996,\n",
              " 3003,\n",
              " 3017,\n",
              " 3024,\n",
              " 3031,\n",
              " 3038,\n",
              " 3052,\n",
              " 3059,\n",
              " 3066,\n",
              " 3073,\n",
              " 3087,\n",
              " 3094,\n",
              " 3101,\n",
              " 3108,\n",
              " 3122,\n",
              " 3129,\n",
              " 3136,\n",
              " 3143,\n",
              " 3157,\n",
              " 3164,\n",
              " 3171,\n",
              " 3178,\n",
              " 3192,\n",
              " 3199]"
            ]
          },
          "metadata": {},
          "execution_count": 33
        }
      ],
      "source": [
        "import numpy as np\n",
        "import pandas as pd\n",
        "def fil(x,y):\n",
        "    L1=[]\n",
        "    for i in range(x,y+1):\n",
        "      if i%7==0 and i%5!=0:\n",
        "        L1.append(i)\n",
        "    return L1\n",
        "fil(2000,3200)"
      ]
    },
    {
      "cell_type": "markdown",
      "id": "44fcf5a5",
      "metadata": {
        "id": "44fcf5a5"
      },
      "source": [
        "# Question 2 \n",
        "\n",
        " Write a program that can compute the factorial of a given number. (The factorial of n is the product of all positive integers less than or equal to n.) For example: For factorial(5)= 5 x 4 x 3 x 2 x 1 the result is 120 (i.e. factorial (0)=1)."
      ]
    },
    {
      "cell_type": "code",
      "execution_count": 15,
      "id": "281b2ff4",
      "metadata": {
        "colab": {
          "base_uri": "https://localhost:8080/"
        },
        "id": "281b2ff4",
        "outputId": "2d86ad18-6c38-4791-9911-93596e018f7f"
      },
      "outputs": [
        {
          "output_type": "execute_result",
          "data": {
            "text/plain": [
              "6"
            ]
          },
          "metadata": {},
          "execution_count": 15
        }
      ],
      "source": [
        "#one way :\n",
        "import math \n",
        "print(math.factorial(4))\n",
        "\n",
        "\n",
        "#two way :\n",
        "fact = 0\n",
        "def facto (i):\n",
        "  if i >= 1 : \n",
        "    fact= i * facto(i-1)\n",
        "  else :\n",
        "    fact = 1\n",
        "  return(fact)\n",
        "facto(3)\n",
        "\n"
      ]
    },
    {
      "cell_type": "code",
      "source": [
        ""
      ],
      "metadata": {
        "colab": {
          "base_uri": "https://localhost:8080/"
        },
        "id": "TloriwyzUPUj",
        "outputId": "bf3a2376-f791-49c4-cb1c-8575938f4b20"
      },
      "id": "TloriwyzUPUj",
      "execution_count": 7,
      "outputs": [
        {
          "output_type": "stream",
          "name": "stdout",
          "text": [
            "24\n"
          ]
        }
      ]
    },
    {
      "cell_type": "markdown",
      "id": "767b0cbb",
      "metadata": {
        "id": "767b0cbb"
      },
      "source": [
        "# Question 3 \n",
        "\n",
        "With a given integer number n, write a program to generate a dictionary that contains (i, i*i) such that is an integral number between 1 and n (both included). Then, the program should print the dictionary. Suppose the following input is supplied to the program: 8 Then, the output should be: {1: 1, 2: 4, 3: 9, 4: 16, 5: 25, 6: 36, 7: 49, 8: 64} "
      ]
    },
    {
      "cell_type": "code",
      "source": [
        "d=dict()\n",
        "def dicti(n):\n",
        "  for i in range(1,n+1):\n",
        "    d[i]=i*i\n",
        "  return d\n",
        "dicti(5)"
      ],
      "metadata": {
        "colab": {
          "base_uri": "https://localhost:8080/"
        },
        "id": "hhUSPRLoYHUx",
        "outputId": "ee4f8f22-02a0-4aa9-c32d-823293cb85f6"
      },
      "id": "hhUSPRLoYHUx",
      "execution_count": 21,
      "outputs": [
        {
          "output_type": "execute_result",
          "data": {
            "text/plain": [
              "{1: 1, 2: 4, 3: 9, 4: 16, 5: 25}"
            ]
          },
          "metadata": {},
          "execution_count": 21
        }
      ]
    },
    {
      "cell_type": "code",
      "execution_count": 17,
      "id": "f6e734be",
      "metadata": {
        "id": "f6e734be"
      },
      "outputs": [],
      "source": [
        ""
      ]
    },
    {
      "cell_type": "markdown",
      "id": "f748e548",
      "metadata": {
        "id": "f748e548"
      },
      "source": [
        "# Question 4 \n",
        "\n",
        "Given a non-empty string and an integral n, return a new string where the char at index n has been removed. The value of n will be a valid index of a char in the original string (i.e. n will be in the range 0..len(str)-1 inclusive). \n",
        "\n",
        "missing_char('kitten', 1) → 'ktten'    for example here we remove \"i\" which is located in the index 1\n",
        "\n",
        "missing_char('kitten', 0) → 'itten'   here we remove \"k\" which is in the index 0\n",
        "\n",
        "missing_char('kitten', 4) → 'kittn'   here we remove \"e\" which is in the index 4"
      ]
    },
    {
      "cell_type": "code",
      "execution_count": 56,
      "id": "8ecc771e",
      "metadata": {
        "colab": {
          "base_uri": "https://localhost:8080/",
          "height": 36
        },
        "id": "8ecc771e",
        "outputId": "f87c0838-4214-44d2-d770-50d4d55984b3"
      },
      "outputs": [
        {
          "output_type": "execute_result",
          "data": {
            "text/plain": [
              "'Nesrne'"
            ],
            "application/vnd.google.colaboratory.intrinsic+json": {
              "type": "string"
            }
          },
          "metadata": {},
          "execution_count": 56
        }
      ],
      "source": [
        "#1st way\n",
        "def exo4(sh,n):\n",
        "  sh=sh[:n]+sh[n+1:]\n",
        "  return(sh)\n",
        "exo4('younes',2)\n",
        "#2nd way\n",
        "def exo(ch,N):\n",
        "  M=list(ch)\n",
        "  del M[N]\n",
        "  O=''.join(M)\n",
        "  return(O)\n",
        "exo('Nesrine',4)"
      ]
    },
    {
      "cell_type": "markdown",
      "id": "548f2afc",
      "metadata": {
        "id": "548f2afc"
      },
      "source": [
        "# Question 5 \n",
        "\n",
        "Write a NumPy program to convert a NumPy array into a Python list structure.\n",
        "\n",
        "Expected output: \n",
        "\n",
        "Original array elements: [[0 1] [2 3] [4 5]] \n",
        "\n",
        "Array to list: [[0, 1], [2, 3], [4, 5]] \n",
        " \n",
        "\n",
        "Hint: We can use the to_list() function to ensure the conversion."
      ]
    },
    {
      "cell_type": "code",
      "execution_count": 41,
      "id": "cdfb2844",
      "metadata": {
        "colab": {
          "base_uri": "https://localhost:8080/"
        },
        "id": "cdfb2844",
        "outputId": "4b33b4ed-6fa3-4e9e-8858-2d9702137010"
      },
      "outputs": [
        {
          "output_type": "execute_result",
          "data": {
            "text/plain": [
              "[10, 11, 12, 13, 14]"
            ]
          },
          "metadata": {},
          "execution_count": 41
        }
      ],
      "source": [
        "import numpy as np\n",
        "\n",
        "#1st way\n",
        "d=np.array([[0,1],[2,3],[4,5]])\n",
        "c =d.tolist()\n",
        "c\n",
        "#2nd way\n",
        "d\n",
        "b=list(d)\n",
        "b\n"
      ]
    },
    {
      "cell_type": "markdown",
      "id": "33e84efa",
      "metadata": {
        "id": "33e84efa"
      },
      "source": [
        "# Question 6\n",
        "\n",
        "Write a NumPy program to compute the covariance matrix of two given arrays. \n",
        "\n",
        "Original array1: [0 1 2] \n",
        "\n",
        "Original array2: [2 1 0] \n",
        "\n",
        "Covariance matrix of the said arrays: [[ 1. -1.] [-1. 1.]]\n",
        " \n",
        "\n",
        "Hint: We can use the np.cov() function to calculate the covariance between these two arrays"
      ]
    },
    {
      "cell_type": "code",
      "execution_count": 46,
      "id": "2952f087",
      "metadata": {
        "colab": {
          "base_uri": "https://localhost:8080/"
        },
        "id": "2952f087",
        "outputId": "9fc1c68e-a9c6-4df9-fdc7-c82d598887b0"
      },
      "outputs": [
        {
          "output_type": "execute_result",
          "data": {
            "text/plain": [
              "array([[ 1., -1.],\n",
              "       [-1.,  1.]])"
            ]
          },
          "metadata": {},
          "execution_count": 46
        }
      ],
      "source": [
        "import numpy as np\n",
        "a=np.array([0,1,2])\n",
        "u=np.array([2,1,0])\n",
        "def cova(s,g):\n",
        "  return np.cov(s,g)\n",
        "cova(a,u)\n"
      ]
    },
    {
      "cell_type": "markdown",
      "id": "c88a1f82",
      "metadata": {
        "id": "c88a1f82"
      },
      "source": [
        "# Question 7\n",
        "\n",
        "Question: Write a program that calculates and prints the value according to the given formula: Q= Square root of [(2 * C * D)/H] \n",
        "\n",
        "The following are the fixed values of C and H: C is 50. H is 30. \n",
        "\n",
        "D is the variable whose values should be input into your program in a comma-separated sequence. (That means D contains more than value)\n",
        "\n",
        "Example: Let's assume the following comma-separated input sequence is given to the program: 100,150,180 The output of the program should be 18,22,24 \n",
        "\n",
        "To further explain this, we will obtain a result for each value of D:  Q1= Square root of [(2 * C * 100)/H] =18, Q2= Square root of [(2 * C * 150)/H] = 22 and Q3 = Square root of [(2 * C * 180)/H]  = 24\n",
        "\n",
        "Hint: If the output received is in decimal form, it should be rounded off to its nearest value. For example, if the output received is 26.0, it should be printed as 26. In case of input data being supplied to the question, it should be assumed to be a console input. "
      ]
    },
    {
      "cell_type": "code",
      "execution_count": 51,
      "id": "42bff06f",
      "metadata": {
        "colab": {
          "base_uri": "https://localhost:8080/"
        },
        "id": "42bff06f",
        "outputId": "877f489d-5995-49ef-d3ca-9e1bec4e3195"
      },
      "outputs": [
        {
          "output_type": "stream",
          "name": "stdout",
          "text": [
            "Enter the D: 100,150,180\n",
            "18,22,24\n"
          ]
        }
      ],
      "source": [
        "from math import sqrt\n",
        "import numpy as np\n",
        "def ex7(sh):\n",
        "  l=sh.split(\",\")\n",
        "  C=50\n",
        "  H=30\n",
        "  S=[]\n",
        "  for i in l:\n",
        "    M=str(round(math.sqrt(2*C*float(i)/H)))\n",
        "    S.append(M)\n",
        "  ch=','.join(S)\n",
        "  return (ch)\n",
        "\n",
        "\n",
        "D = input(\"Enter the D: \")\n",
        "print(ex7(D))"
      ]
    },
    {
      "cell_type": "code",
      "source": [
        ""
      ],
      "metadata": {
        "id": "9VoM-KSS6F60"
      },
      "id": "9VoM-KSS6F60",
      "execution_count": null,
      "outputs": []
    }
  ],
  "metadata": {
    "kernelspec": {
      "display_name": "Python 3 (ipykernel)",
      "language": "python",
      "name": "python3"
    },
    "language_info": {
      "codemirror_mode": {
        "name": "ipython",
        "version": 3
      },
      "file_extension": ".py",
      "mimetype": "text/x-python",
      "name": "python",
      "nbconvert_exporter": "python",
      "pygments_lexer": "ipython3",
      "version": "3.9.12"
    },
    "colab": {
      "name": "Checkpoint_2_Python_1.ipynb",
      "provenance": []
    }
  },
  "nbformat": 4,
  "nbformat_minor": 5
}